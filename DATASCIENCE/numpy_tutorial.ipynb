{
 "cells": [
  {
   "cell_type": "code",
   "execution_count": 3,
   "id": "776256bb-f56d-4cf3-b3c8-ad42b17d1e91",
   "metadata": {},
   "outputs": [],
   "source": [
    "#Why to we want to use the a special library called numpy while the same task can be easily done by normal python code:\n",
    "#The answer is very simple. SPEED. The numpy uses the precompiled c code as the backend."
   ]
  },
  {
   "cell_type": "code",
   "execution_count": 4,
   "id": "b781bd28-6d82-4ba6-a77f-37071944a8fc",
   "metadata": {},
   "outputs": [],
   "source": [
    "#VECTORIZATION AND BROADCASTING"
   ]
  },
  {
   "cell_type": "code",
   "execution_count": 5,
   "id": "a59956dc-0d5d-486c-aad2-ae04433d659c",
   "metadata": {},
   "outputs": [],
   "source": [
    "#ARRAY FUNDAMENTALS"
   ]
  },
  {
   "cell_type": "code",
   "execution_count": 6,
   "id": "ab539ced-e902-4912-8e75-d5ab2a840d2a",
   "metadata": {},
   "outputs": [],
   "source": [
    "import numpy as np"
   ]
  },
  {
   "cell_type": "code",
   "execution_count": 8,
   "id": "a8367534-3552-46cb-91b7-20f2a0001822",
   "metadata": {},
   "outputs": [
    {
     "data": {
      "text/plain": [
       "(2, 3)"
      ]
     },
     "execution_count": 8,
     "metadata": {},
     "output_type": "execute_result"
    }
   ],
   "source": [
    "a = np.array(\n",
    "    [\n",
    "        [1, 2, 3],\n",
    "        [4, 5, 6]   \n",
    "    ]\n",
    ")\n",
    "\n",
    "a.shape"
   ]
  },
  {
   "cell_type": "code",
   "execution_count": 11,
   "id": "d5031c52-82dc-4b75-8d86-1a7df28507db",
   "metadata": {},
   "outputs": [
    {
     "name": "stdout",
     "output_type": "stream",
     "text": [
      "[[1 8 3]\n",
      " [4 5 6]]\n"
     ]
    }
   ],
   "source": [
    "a[0][1] = 8 #Note that the numpy is 0-indexed.\n",
    "print(a)"
   ]
  },
  {
   "cell_type": "code",
   "execution_count": 13,
   "id": "6af2b3ce-e980-49ba-83fe-c5ff4cf56ee0",
   "metadata": {},
   "outputs": [
    {
     "name": "stdout",
     "output_type": "stream",
     "text": [
      "[1 2 3]\n",
      "[3 4 5 6]\n"
     ]
    }
   ],
   "source": [
    "b = np.array(\n",
    "    [1, 2, 3, 4, 5, 6]\n",
    ")\n",
    "\n",
    "print(b[:3]) #We also assign this to the variable rather that printing.\n",
    "print(b[2:])"
   ]
  },
  {
   "cell_type": "code",
   "execution_count": 14,
   "id": "11e0c86e-0694-4e5f-87b8-505d4b7ad551",
   "metadata": {},
   "outputs": [],
   "source": [
    "#ARRAY ATTRIBUTES"
   ]
  },
  {
   "cell_type": "code",
   "execution_count": 21,
   "id": "50c9bcc7-1efc-44ce-af1c-696085556d02",
   "metadata": {},
   "outputs": [],
   "source": [
    "c = np.array( #This is a two dimensional array\n",
    "    [\n",
    "        [1, 2, 3, 4],\n",
    "        [5, 6, 7, 8],\n",
    "        [7, 8, 9, 12]\n",
    "    ]\n",
    ")\n",
    "\n",
    "d = np.array( #This is a one dimensional array\n",
    "    [1, 2]\n",
    ")\n",
    "\n",
    "e = np.array(34) #This is a zero dimensional array."
   ]
  },
  {
   "cell_type": "code",
   "execution_count": 25,
   "id": "4de21cf3-3957-400b-9e29-37ef5847eb0b",
   "metadata": {},
   "outputs": [
    {
     "name": "stdout",
     "output_type": "stream",
     "text": [
      "2\n",
      "1\n",
      "0\n"
     ]
    }
   ],
   "source": [
    "print(a.ndim) #Get the number of dimensions.\n",
    "print(d.ndim)\n",
    "print(e.ndim)"
   ]
  },
  {
   "cell_type": "code",
   "execution_count": 27,
   "id": "9c42d9fc-022a-46ea-8df1-bfac643ff820",
   "metadata": {},
   "outputs": [
    {
     "name": "stdout",
     "output_type": "stream",
     "text": [
      "int64\n",
      "int64\n"
     ]
    }
   ],
   "source": [
    "print(a.dtype)\n",
    "print(d.dtype)"
   ]
  },
  {
   "cell_type": "code",
   "execution_count": 28,
   "id": "ba1f5283-67cb-49b6-8624-dc3cc65056cc",
   "metadata": {},
   "outputs": [],
   "source": [
    "#CREATION OF COMMON BASIC ARRAYS"
   ]
  },
  {
   "cell_type": "code",
   "execution_count": 30,
   "id": "d51601f1-2f40-4dd4-8e3c-d0de5c7ec83b",
   "metadata": {},
   "outputs": [
    {
     "data": {
      "text/plain": [
       "array([0., 0.])"
      ]
     },
     "execution_count": 30,
     "metadata": {},
     "output_type": "execute_result"
    }
   ],
   "source": [
    "np.zeros(2)"
   ]
  },
  {
   "cell_type": "code",
   "execution_count": 34,
   "id": "4400340e-0765-4675-a1eb-65aa155c4545",
   "metadata": {},
   "outputs": [
    {
     "name": "stdout",
     "output_type": "stream",
     "text": [
      "[[0. 0. 0.]\n",
      " [0. 0. 0.]]\n",
      "HELLO\n",
      "[[[0. 0. 0. 0. 0.]\n",
      "  [0. 0. 0. 0. 0.]\n",
      "  [0. 0. 0. 0. 0.]]\n",
      "\n",
      " [[0. 0. 0. 0. 0.]\n",
      "  [0. 0. 0. 0. 0.]\n",
      "  [0. 0. 0. 0. 0.]]]\n"
     ]
    }
   ],
   "source": [
    "print(np.zeros((2, 3)))\n",
    "print('SPLITTER')\n",
    "print(np.zeros((2, 3, 5)))"
   ]
  },
  {
   "cell_type": "code",
   "execution_count": 38,
   "id": "32a37e85-a2f4-4c1f-91a2-869a71b2ac57",
   "metadata": {},
   "outputs": [
    {
     "name": "stdout",
     "output_type": "stream",
     "text": [
      "[1. 1. 1. 1. 1.]\n",
      "SPLITTER\n",
      "[[[1. 1. 1. 1. 1.]\n",
      "  [1. 1. 1. 1. 1.]\n",
      "  [1. 1. 1. 1. 1.]\n",
      "  [1. 1. 1. 1. 1.]\n",
      "  [1. 1. 1. 1. 1.]]\n",
      "\n",
      " [[1. 1. 1. 1. 1.]\n",
      "  [1. 1. 1. 1. 1.]\n",
      "  [1. 1. 1. 1. 1.]\n",
      "  [1. 1. 1. 1. 1.]\n",
      "  [1. 1. 1. 1. 1.]]\n",
      "\n",
      " [[1. 1. 1. 1. 1.]\n",
      "  [1. 1. 1. 1. 1.]\n",
      "  [1. 1. 1. 1. 1.]\n",
      "  [1. 1. 1. 1. 1.]\n",
      "  [1. 1. 1. 1. 1.]]\n",
      "\n",
      " [[1. 1. 1. 1. 1.]\n",
      "  [1. 1. 1. 1. 1.]\n",
      "  [1. 1. 1. 1. 1.]\n",
      "  [1. 1. 1. 1. 1.]\n",
      "  [1. 1. 1. 1. 1.]]\n",
      "\n",
      " [[1. 1. 1. 1. 1.]\n",
      "  [1. 1. 1. 1. 1.]\n",
      "  [1. 1. 1. 1. 1.]\n",
      "  [1. 1. 1. 1. 1.]\n",
      "  [1. 1. 1. 1. 1.]]]\n"
     ]
    }
   ],
   "source": [
    "print(np.ones(5))\n",
    "print('SPLITTER')\n",
    "print(np.ones((5, 5, 5)))"
   ]
  },
  {
   "cell_type": "code",
   "execution_count": 40,
   "id": "074e3896-9234-44aa-8fdf-f7c741ade49d",
   "metadata": {},
   "outputs": [
    {
     "name": "stdout",
     "output_type": "stream",
     "text": [
      "[9.40528331e-312 0.00000000e+000 6.47591605e-319]\n"
     ]
    }
   ],
   "source": [
    "print(np.empty(3))#Empty arrays are not initialized with any values. It is usefull when we want to override all the values in the future."
   ]
  },
  {
   "cell_type": "code",
   "execution_count": 42,
   "id": "b2e4b4c5-af8b-4079-ab52-4539810ff3d9",
   "metadata": {},
   "outputs": [
    {
     "name": "stdout",
     "output_type": "stream",
     "text": [
      "[2 4 6 8]\n"
     ]
    }
   ],
   "source": [
    "print(np.arange(2, 9, 2)) #start value, end value, step value"
   ]
  },
  {
   "cell_type": "code",
   "execution_count": 44,
   "id": "2a0c718f-932e-4c3d-b965-7946fbc1039b",
   "metadata": {},
   "outputs": [
    {
     "name": "stdout",
     "output_type": "stream",
     "text": [
      "[ 0.   2.5  5.   7.5 10. ]\n"
     ]
    }
   ],
   "source": [
    "print(np.linspace(0, 10, num = 5)) #Start value, End value, No of elements. It automatically calculates the step value based upon the number of elements."
   ]
  },
  {
   "cell_type": "code",
   "execution_count": 47,
   "id": "fbba4456-ad9e-4cde-9031-083b4085b212",
   "metadata": {},
   "outputs": [
    {
     "name": "stdout",
     "output_type": "stream",
     "text": [
      "[1 1]\n"
     ]
    }
   ],
   "source": [
    "#We obeserve till now that all the elements are acutally floats but there is way to specify the datatype required.\n",
    "x = np.ones( #Similarly this could be also done for zeros\n",
    "    2, dtype = np.int64\n",
    ")\n",
    "\n",
    "print(x)"
   ]
  },
  {
   "cell_type": "code",
   "execution_count": 48,
   "id": "753bb4b9-0910-430b-8777-4828282383e1",
   "metadata": {},
   "outputs": [],
   "source": [
    "# SORTING AND CONCATENATE"
   ]
  },
  {
   "cell_type": "code",
   "execution_count": 50,
   "id": "dd77f55f-af1e-41a3-b80e-736171d4aff0",
   "metadata": {},
   "outputs": [
    {
     "name": "stdout",
     "output_type": "stream",
     "text": [
      "[ 1  2  2  4  7 34 56 99]\n"
     ]
    }
   ],
   "source": [
    "arr = np.array(\n",
    "    [2, 1, 2, 4, 56,7, 34, 99]\n",
    ")\n",
    "\n",
    "print(np.sort(arr))"
   ]
  },
  {
   "cell_type": "code",
   "execution_count": 52,
   "id": "ca1668ec-e3a4-4820-84b5-8f69c1db3bba",
   "metadata": {},
   "outputs": [
    {
     "name": "stdout",
     "output_type": "stream",
     "text": [
      "[0 1 2]\n"
     ]
    }
   ],
   "source": [
    "arr = np.sort(\n",
    "    [30, 10, 20]\n",
    ")\n",
    "\n",
    "print(np.argsort(arr)) #This actually returns the index after sorting."
   ]
  },
  {
   "cell_type": "code",
   "execution_count": 58,
   "id": "7401f24b-7ded-455a-a8b5-326ff06dd463",
   "metadata": {},
   "outputs": [
    {
     "name": "stdout",
     "output_type": "stream",
     "text": [
      "[[1 2]\n",
      " [3 4]\n",
      " [5 6]\n",
      " [7 8]]\n",
      "[[1 2 5 6]\n",
      " [3 4 7 8]]\n"
     ]
    }
   ],
   "source": [
    "x = np.array(\n",
    "    [\n",
    "        [1, 2],\n",
    "        [3, 4]\n",
    "    ]\n",
    ")\n",
    "\n",
    "y = np.array(\n",
    "    [\n",
    "        [5, 6],\n",
    "        [7, 8]\n",
    "    ]\n",
    ")\n",
    "\n",
    "print(np.concatenate((x, y), axis = 0))\n",
    "print(np.concatenate((x, y), axis = 1))"
   ]
  },
  {
   "cell_type": "code",
   "execution_count": 60,
   "id": "d669bfe2-8afd-4853-9600-67c5cef07cad",
   "metadata": {},
   "outputs": [],
   "source": [
    "# RESHAPE ARRAYS (IT GIVES NEW SHAPE TO THE ARRAY WITHOUT CHANGING THE DATA)"
   ]
  },
  {
   "cell_type": "code",
   "execution_count": 71,
   "id": "d9e13474-47c0-4f19-90d0-a42ef5be17b8",
   "metadata": {},
   "outputs": [
    {
     "name": "stdout",
     "output_type": "stream",
     "text": [
      "[0 1 2 3 4 5]\n",
      "SEPERATOR\n",
      "[[0 1 2]\n",
      " [3 4 5]]\n",
      "SEPERATOR\n",
      "[[0 1 2]\n",
      " [3 4 5]]\n"
     ]
    }
   ],
   "source": [
    "a = np.arange(6)\n",
    "print(a)\n",
    "\n",
    "print('SEPERATOR')\n",
    "\n",
    "print(a.reshape(2, 3))\n",
    "\n",
    "print('SEPERATOR')\n",
    "\n",
    "print(np.reshape(a, (2, 3)))"
   ]
  },
  {
   "cell_type": "code",
   "execution_count": 74,
   "id": "20a8eb4c-41a4-4473-8972-94b55b5c2dec",
   "metadata": {},
   "outputs": [
    {
     "name": "stdout",
     "output_type": "stream",
     "text": [
      "(5,)\n",
      "1\n",
      "(1, 5)\n",
      "[[1 2 3 4 5]]\n"
     ]
    }
   ],
   "source": [
    "a1 = np.array([1, 2, 3, 4, 5])\n",
    "print(a1.shape)\n",
    "print(a1.ndim)\n",
    "\n",
    "a2 = a[np.newaxis, : ]\n",
    "print(a2.shape)\n",
    "print(a2)"
   ]
  },
  {
   "cell_type": "code",
   "execution_count": 76,
   "id": "b9875695-e87f-42eb-a750-67315a0b9f03",
   "metadata": {},
   "outputs": [],
   "source": [
    "# INDEXING AND SLICING"
   ]
  },
  {
   "cell_type": "code",
   "execution_count": 78,
   "id": "31d24e43-ac69-49ae-b6f9-dc84b35f50f0",
   "metadata": {},
   "outputs": [
    {
     "name": "stdout",
     "output_type": "stream",
     "text": [
      "[89 45]\n",
      "89\n",
      "[89 45]\n"
     ]
    }
   ],
   "source": [
    "arr = np.array(\n",
    "    [12, 89, 45]\n",
    ")\n",
    "\n",
    "print(arr[1:])\n",
    "print(arr[-2])\n",
    "print(arr[-2: ])"
   ]
  },
  {
   "cell_type": "code",
   "execution_count": 83,
   "id": "8cf8c746-3098-4cc9-b475-f2b4e7d39578",
   "metadata": {},
   "outputs": [
    {
     "name": "stdout",
     "output_type": "stream",
     "text": [
      "[[ True  True  True  True]\n",
      " [ True False False False]\n",
      " [False False False False]]\n",
      "SEPERATOR\n",
      "[1 2 3 4 5]\n",
      "[ 2  4  6  8  8 12]\n",
      "[2 4]\n"
     ]
    }
   ],
   "source": [
    "arr = np.array( #This is a two dimensional array\n",
    "    [\n",
    "        [1, 2, 3, 4],\n",
    "        [5, 6, 7, 8],\n",
    "        [7, 8, 9, 12]\n",
    "    ]\n",
    ")\n",
    "\n",
    "print(arr < 6)\n",
    "print('SEPERATOR')\n",
    "print(arr[arr < 6])\n",
    "print(arr[arr % 2 == 0])\n",
    "print(arr[(arr < 6) & (arr % 2 == 0)])"
   ]
  },
  {
   "cell_type": "code",
   "execution_count": 85,
   "id": "18cba1dd-cd50-4227-a1a9-42e72e4451fd",
   "metadata": {},
   "outputs": [
    {
     "name": "stdout",
     "output_type": "stream",
     "text": [
      "(array([0, 0]), array([1, 3]))\n"
     ]
    }
   ],
   "source": [
    "print(np.nonzero((arr < 6) & (arr % 2 == 0))) #This returns the index rather that the element. Here the [0,1]=>2 and [0,3]=>4"
   ]
  },
  {
   "cell_type": "code",
   "execution_count": 86,
   "id": "f2fb68da-c0a3-48f8-890a-8ba4c56be059",
   "metadata": {},
   "outputs": [],
   "source": [
    "# HORIZONDAL, VERTICAL STACK AND HORIZONTAL SPLIT"
   ]
  },
  {
   "cell_type": "code",
   "execution_count": 88,
   "id": "3614b41b-dde4-4a59-84ca-3263b4c69098",
   "metadata": {},
   "outputs": [
    {
     "name": "stdout",
     "output_type": "stream",
     "text": [
      "[[1 2]\n",
      " [3 4]\n",
      " [5 6]\n",
      " [7 8]]\n",
      "SEPERATOR\n",
      "[[1 2 5 6]\n",
      " [3 4 7 8]]\n"
     ]
    }
   ],
   "source": [
    "a1 = np.array(\n",
    "    [\n",
    "        [1, 2],\n",
    "        [3, 4]\n",
    "    ]\n",
    ")\n",
    "\n",
    "a2 = np.array(\n",
    "    [\n",
    "        [5, 6],\n",
    "        [7, 8]\n",
    "    ]\n",
    ")\n",
    "\n",
    "print(np.vstack((a1, a2)))\n",
    "print('SEPERATOR')\n",
    "print(np.hstack((a1, a2)))"
   ]
  },
  {
   "cell_type": "code",
   "execution_count": 94,
   "id": "810ba57a-35eb-47f2-b3ef-248eab0f63e4",
   "metadata": {},
   "outputs": [
    {
     "name": "stdout",
     "output_type": "stream",
     "text": [
      "[[ 1  2  3  4  5  6  7  8  9 10 11 12]\n",
      " [13 14 15 16 17 18 19 20 21 22 23 24]]\n",
      "[array([[ 1,  2,  3,  4],\n",
      "       [13, 14, 15, 16]]), array([[ 5,  6,  7,  8],\n",
      "       [17, 18, 19, 20]]), array([[ 9, 10, 11, 12],\n",
      "       [21, 22, 23, 24]])]\n",
      "SEPERATOR\n",
      "[array([[ 1,  2,  3],\n",
      "       [13, 14, 15]]), array([[ 4],\n",
      "       [16]]), array([[ 5,  6,  7,  8,  9, 10, 11, 12],\n",
      "       [17, 18, 19, 20, 21, 22, 23, 24]])]\n"
     ]
    }
   ],
   "source": [
    "arr1 = np.arange(1, 25).reshape(2, 12)\n",
    "print(arr1)\n",
    "\n",
    "arr2 = np.hsplit(arr1, 3)\n",
    "print(arr2)\n",
    "\n",
    "print('SEPERATOR')\n",
    "\n",
    "arr2 = np.hsplit(arr1, (3,  4))\n",
    "print(arr2)"
   ]
  },
  {
   "cell_type": "code",
   "execution_count": 95,
   "id": "6adf0b5a-8df8-40e9-9229-206e5aa4f603",
   "metadata": {},
   "outputs": [],
   "source": [
    "# VIEW AND COPY"
   ]
  },
  {
   "cell_type": "code",
   "execution_count": 100,
   "id": "d5d65d04-345b-4a0d-8561-cac2bf345de7",
   "metadata": {},
   "outputs": [
    {
     "name": "stdout",
     "output_type": "stream",
     "text": [
      "[0 1 2 3 4 5]\n",
      "[ 0  1 10  3  4  5]\n"
     ]
    }
   ],
   "source": [
    "arr1 = np.arange(6)\n",
    "arr2 = arr1 #Technically we are actually creating the view.\n",
    "arr3 = arr1.copy() #Technically we are actually creating the copy.\n",
    "print(arr2)\n",
    "\n",
    "arr2[2] = 10\n",
    "arr3[1] = 20\n",
    "\n",
    "print(arr1) #From this its very clear that the python actually creates the referenced copies. All the copies point to the same memeory location.\n"
   ]
  },
  {
   "cell_type": "code",
   "execution_count": 101,
   "id": "5c1b50aa-0f83-4b68-a68d-a977e86192a1",
   "metadata": {},
   "outputs": [],
   "source": [
    "#ADDITION, SUBSTRACTION, MULTIPLICATION AND DIVISION OF ARRAYS"
   ]
  },
  {
   "cell_type": "code",
   "execution_count": 104,
   "id": "d0140b09-1865-42ef-af15-7709fd1fd9fc",
   "metadata": {},
   "outputs": [
    {
     "name": "stdout",
     "output_type": "stream",
     "text": [
      "[2 4 6 8]\n",
      "[0 0 0 0]\n",
      "[ 1  4  9 16]\n",
      "[1. 1. 1. 1.]\n"
     ]
    }
   ],
   "source": [
    "arr1 = np.arange(1, 5)\n",
    "arr2 = np.arange(1, 5)\n",
    "print(arr1 + arr2)\n",
    "print(arr1 - arr2)\n",
    "print(arr1 * arr2)\n",
    "print(arr1 / arr2)"
   ]
  },
  {
   "cell_type": "code",
   "execution_count": 110,
   "id": "e4003d72-d18d-4d55-94b0-3a43df292105",
   "metadata": {},
   "outputs": [
    {
     "name": "stdout",
     "output_type": "stream",
     "text": [
      "[[1 2]\n",
      " [3 4]]\n",
      "10\n",
      "[4 6]\n",
      "[3 7]\n"
     ]
    }
   ],
   "source": [
    "arr3 = np.reshape(arr1, (2, 2))\n",
    "print(arr3)\n",
    "\n",
    "print(arr3.sum())\n",
    "print(arr3.sum(axis = 0))\n",
    "print(arr3.sum(axis = 1))"
   ]
  },
  {
   "cell_type": "code",
   "execution_count": 114,
   "id": "ac6d0259-596e-477c-831e-78525571f516",
   "metadata": {},
   "outputs": [],
   "source": [
    "# MIN, MAX, MEAN, STD(standard deviation, PROD"
   ]
  },
  {
   "cell_type": "code",
   "execution_count": 116,
   "id": "88d5f6cd-ddfc-4c31-8e79-c9baff15dec7",
   "metadata": {},
   "outputs": [
    {
     "name": "stdout",
     "output_type": "stream",
     "text": [
      "4\n",
      "[3 4]\n",
      "[2 4]\n"
     ]
    }
   ],
   "source": [
    "print(arr3.max())\n",
    "print(arr3.max(axis = 0))\n",
    "print(arr3.max(axis = 1))\n",
    "#Similary it applies for the MIN, MEAN, STD"
   ]
  },
  {
   "cell_type": "code",
   "execution_count": 117,
   "id": "e6b138c9-a702-4c1e-b8f9-0f711c4ce112",
   "metadata": {},
   "outputs": [],
   "source": [
    "# GENERATING RANDOM NUMBERS"
   ]
  },
  {
   "cell_type": "code",
   "execution_count": 119,
   "id": "4bf3d80a-f3ca-4282-bb0d-554fd1c185b8",
   "metadata": {},
   "outputs": [
    {
     "name": "stdout",
     "output_type": "stream",
     "text": [
      "[[2 3]\n",
      " [2 8]\n",
      " [3 4]]\n"
     ]
    }
   ],
   "source": [
    "#First see a bit older version:\n",
    "print(np.random.randint(2, 9, (3, 2))) # Start, End, (Shape required)"
   ]
  },
  {
   "cell_type": "code",
   "execution_count": 120,
   "id": "217c68c9-55f3-41ce-8193-72a38ecb2581",
   "metadata": {},
   "outputs": [
    {
     "name": "stdout",
     "output_type": "stream",
     "text": [
      "[[8 4]\n",
      " [5 7]\n",
      " [7 7]]\n"
     ]
    }
   ],
   "source": [
    "#Newer version\n",
    "rng = np.random.default_rng() # rng => Random Number Generator\n",
    "print(rng.integers(2, 9, (3, 2)))"
   ]
  },
  {
   "cell_type": "code",
   "execution_count": 121,
   "id": "43699cbf-9c42-4538-8f42-7898c8fd92e9",
   "metadata": {},
   "outputs": [],
   "source": [
    "# UNIQUE ITEMS TRANSPOSING MATRIX REVERSE ARRAYS"
   ]
  },
  {
   "cell_type": "code",
   "execution_count": 122,
   "id": "a560ba2e-bb5b-475d-b7e0-cb1b45427524",
   "metadata": {},
   "outputs": [
    {
     "name": "stdout",
     "output_type": "stream",
     "text": [
      "[[1 3]\n",
      " [2 4]]\n"
     ]
    }
   ],
   "source": [
    "print(arr3.transpose())"
   ]
  },
  {
   "cell_type": "code",
   "execution_count": 123,
   "id": "26933a37-b622-4bd9-9a59-d44721b05c8b",
   "metadata": {},
   "outputs": [],
   "source": [
    "#REVERSE OR FLIP ARRAYS"
   ]
  },
  {
   "cell_type": "code",
   "execution_count": null,
   "id": "5665bba2-8b4b-494f-afb6-6875e4209739",
   "metadata": {},
   "outputs": [],
   "source": []
  }
 ],
 "metadata": {
  "kernelspec": {
   "display_name": "Python 3 (ipykernel)",
   "language": "python",
   "name": "python3"
  },
  "language_info": {
   "codemirror_mode": {
    "name": "ipython",
    "version": 3
   },
   "file_extension": ".py",
   "mimetype": "text/x-python",
   "name": "python",
   "nbconvert_exporter": "python",
   "pygments_lexer": "ipython3",
   "version": "3.12.10"
  }
 },
 "nbformat": 4,
 "nbformat_minor": 5
}
